{
 "cells": [
  {
   "cell_type": "markdown",
   "metadata": {},
   "source": [
    "# PROYECTO N°2: The Android App Market on Google Play\n",
    "\n",
    "Cargue, limpie y visualice datos scrapeados de Google Play Store para obtener información sobre el mercado de aplicaciones de Android."
   ]
  },
  {
   "cell_type": "markdown",
   "metadata": {},
   "source": [
    "**Descripción del proyecto**\n",
    "\n",
    "Las aplicaciones móviles están en todas partes. Son fáciles de crear y pueden ser lucrativos. Debido a estos dos factores, cada vez se están desarrollando más y más aplicaciones. En este proyecto, harás _un análisis completo del mercado de aplicaciones Android_ comparando más de diez mil aplicaciones en Google Play en diferentes categorías. Buscará información sobre los datos para diseñar estrategias que impulsen el crecimiento y la retención. Los **datos** de este proyecto fueron scrapeado desde el sitio web de **Google Play.** Si bien hay muchos conjuntos de datos populares para Apple App Store, no hay muchos para las aplicaciones de Google Play, lo que se debe en parte a la mayor dificultad para scrapeado el segundo en comparación con el primero. Los archivos de datos son los siguientes:\n",
    "\n",
    "- **apps.csv**: contiene todos los detalles de las aplicaciones en Google Play. Estas son las características que describen una aplicación.\n",
    "- **user_reviews.csv**: contiene 100 revisiones para cada aplicación, **lo más útil primero.** El texto de cada revisión se ha preprocesado, pasado a través de un motor de analizador de opiniones y etiquetado con su puntuación de opinión.\n",
    "\n",
    "> **Proyecto no guiado**\n",
    ">\n",
    "> Deconstruya la información y extraiga inferencias de un gran conjunto de datos de aplicaciones de Google Play y opiniones de usuarios, utilizando sus habilidades analíticas y de manipulación de datos.‎\n",
    "\n",
    "---"
   ]
  },
  {
   "cell_type": "markdown",
   "metadata": {},
   "source": [
    "## 1. Introduccion\n",
    "\n",
    "<p>\n",
    "    <img src=\"https://raw.githubusercontent.com/MayumyCH/dc_project_analyzing_android_app_market_with_python/main/assets/google_play_store.png\" alt=\"Google Play logo\" width=\"400\">\n",
    "</p>\n",
    "\n",
    "<p>\n",
    "    Las aplicaciones móviles están en todas partes. Son fáciles de crear y pueden ser muy lucrativos desde el punto de vista empresarial. Específicamente, Android se está expandiendo como un sistema operativo y ha capturado más del 74% del mercado total<sup><a href=\"https://www.statista.com/statistics/272698/global-market-share-held-by-mobile-operating-systems-since-2009\">[1]</a></sup>.\n",
    "</p>\n",
    "    \n",
    "<p>\n",
    "    Los datos de las aplicaciones de Google Play Store tienen un enorme potencial para facilitar las decisiones y la información basadas en datos para las empresas. En este bloc de notas, analizaremos el mercado de aplicaciones de Android comparando aplicaciones de 10k en Google Play en diferentes categorías. También usaremos las opiniones de los usuarios para dibujar una comparación cualitativa entre las aplicaciones.\n",
    "</p>\n",
    "\n",
    "<p>\n",
    "    El conjunto de datos que va a utilizar aquí fue scrapedo de Google Play Store en septiembre de 2018 y se publicó en <a href=\"https://www.kaggle.com/lava18/google-play-store-apps\">Kaggle</a>. Estos son los detalles:<br><br>\n",
    "</p>"
   ]
  },
  {
   "cell_type": "markdown",
   "metadata": {},
   "source": [
    "<div style=\"background-color: #efebe4; color: #05192d; text-align:left; vertical-align: middle; padding: 15px 25px 15px 25px; line-height: 1.6;\">\n",
    "    <div style=\"font-size:20px\">\n",
    "        <b>datasets/apps.csv</b>\n",
    "    </div>\n",
    "    Este archivo contiene todos los detalles de las aplicaciones en Google Play. Hay 9 características que describen una aplicación determinada.\n",
    "<ul>\n",
    "    <li><b>App:</b> Nombre de la aplicación‎</li>\n",
    "    <li><b>Category:</b> Categoría de la aplicación. Algunos ejemplos son: ART_AND_DESIGN, FINANCE, COMICS, BEAUTY etc.</li>\n",
    "    <li><b>Rating:</b> La calificación media actual (de 5) de la aplicación en Google Play</li>\n",
    "    <li><b>Reviews:</b> Número de opiniones dadas en la aplicación</li>\n",
    "    <li><b>Size:</b> Tamaño de la aplicación en MB (megabytes)</li>\n",
    "    <li><b>Installs:</b> Número de veces que la aplicación se descargó de Google Play</li>\n",
    "    <li><b>Type:</b> Si la aplicación es de pago o gratuita</li>\n",
    "    <li><b>Price:</b> Precio de la aplicación en US$ </li>\n",
    "    <li><b>Last Updated:</b> Fecha en la que la aplicación se actualizó por última vez en Google Play</li>\n",
    "</ul>\n",
    "</div>\n",
    "\n",
    "\n",
    "<div style=\"background-color: #efebe4; color: #05192d; text-align:left; vertical-align: middle; padding: 15px 25px 15px 25px; line-height: 1.6;\">\n",
    "    <div style=\"font-size:20px\"><b>datasets/user_reviews.csv</b></div>\n",
    "Este archivo contiene una muestra aleatoria de 100 comentarios de primeros usuarios \n",
    "<a href=\"https://www.androidpolice.com/2019/01/21/google-play-stores-redesigned-ratings-and-reviews-section-lets-you-easily-filter-by-star-rating/\">más útiles</a> para cada aplicación. El texto de cada revisión se ha procesado previamente y se ha pasado a través de un analizador de opiniones.\n",
    "<ul>\n",
    "    <li><b>App:</b> Nombre de la aplicación en la que se proporcionó la revisión de usuarios. Coincide con la columna `App` del archivo `apps.csv`.</li>\n",
    "    <li><b>Review:</b> El texto de revisión de usuarios preprocesado‎</li>\n",
    "    <li><b>Sentiment Category:</b>  Categoría De sentimiento de la opinión del usuario - Positivo, Negativo o Neutral</li>\n",
    "    <li><b>Sentiment Score:</b> Puntuación de opinión de la revisión del usuario. Se encuentra entre [-1,1]. Una puntuación más alta denota un sentimiento más positivo.</li>\n",
    "\n",
    "</ul>\n",
    "</div>\n",
    "\n",
    "\n",
    "<p>A partir de ahora, será su tarea explorar y manipular los datos hasta que pueda responder a las tres preguntas descritas en el panel de instrucciones.<br></p>"
   ]
  },
  {
   "cell_type": "code",
   "execution_count": null,
   "metadata": {},
   "outputs": [],
   "source": [
    "# PASO 1 *- Lea el archivo apps.csv y limpie la columna Installs\n",
    "#           para convertirlo en un tipo de datos entero.\n",
    "# Guarde la respuesta como un marco de datos . \n",
    "# En el futuro, hará todo el análisis en el DataFrame \"apps\""
   ]
  },
  {
   "cell_type": "code",
   "execution_count": null,
   "metadata": {},
   "outputs": [],
   "source": []
  },
  {
   "cell_type": "code",
   "execution_count": null,
   "metadata": {},
   "outputs": [],
   "source": [
    "# PASO 2 *- Encuentra el número de aplicaciones en cada categoría,\n",
    "#           el precio medio y la calificación media.\n",
    "# Guarde la respuesta como un marco de datos \"app_category_info\"\n",
    "# Debe cambiar el nombre de las cuatro columnas como:\n",
    "# Category, Number of apps, Average price, Average rating"
   ]
  },
  {
   "cell_type": "code",
   "execution_count": null,
   "metadata": {},
   "outputs": [],
   "source": []
  },
  {
   "cell_type": "code",
   "execution_count": null,
   "metadata": {},
   "outputs": [],
   "source": [
    "# PASO 3 *- Encuentra las 10 mejores aplicaciones gratuitas de finanza\n",
    "#           que tienen la puntuación de opinión promedio más alta.\n",
    "# Guarde la respuesta como un marco de datos\n",
    "# La respuesta debe tener exactamente 10 filas y dos columnas denominadas: \n",
    "# App y Sentiment Score, donde top_10_user_feedback \n",
    "# el promedio Sentiment Score se ordena de mayor a menor."
   ]
  },
  {
   "cell_type": "code",
   "execution_count": null,
   "metadata": {},
   "outputs": [],
   "source": []
  }
 ],
 "metadata": {
  "kernelspec": {
   "display_name": "Python 3",
   "language": "python",
   "name": "python3"
  },
  "language_info": {
   "codemirror_mode": {
    "name": "ipython",
    "version": 3
   },
   "file_extension": ".py",
   "mimetype": "text/x-python",
   "name": "python",
   "nbconvert_exporter": "python",
   "pygments_lexer": "ipython3",
   "version": "3.7.3"
  }
 },
 "nbformat": 4,
 "nbformat_minor": 2
}
